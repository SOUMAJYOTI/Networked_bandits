{
 "cells": [
  {
   "cell_type": "markdown",
   "metadata": {},
   "source": [
    "# Knapsack Problem (KP)\n",
    "\n",
    "Given a set of $n$ items with profit $p_i$ and weight $w_i$ for item $i=0,\\ldots,n-1$, and the capacity value $c$ (all parameters are positive integers), select a subset of the items such that the total profit of the selected items is maximized and the total weight does not exceed $c$.\n",
    "\n",
    "Example applications:\n",
    "* <b>Mountaineer</b>: A mountaineer is packing his knapsack for a mountain tour and has to decide which items he should take with him. He has a large number of objects available which may be useful on his tour. Each of these items would give him a certain amount of comfort or benefit $p_i$. However, the weight $w_i$ of every object which the mountaineer puts into his knapsack increases the load he has to carry. For obvious reasons, he wants to limit the total weight of his knapsack and hence fixes the maximum load by the capacity value $c$.\n",
    "* <b>Investment</b>: A wealthy individual or institutional investor has a certain amount of money $c$ available which she wants to put into profitable business projects. As a basis for her decisions she compiles a long list of possible investments including for every investment the required amount $w_i$ and the expected net return $p_i$ over a fixed period. The aspect of risk is not explicitly taken into account here. Obviously, the combination of the binary decisions for every investment such that the overall return on investment is as large as possible can be formulated as a knapsack problem.\n",
    "* <b>Airline cargo</b>: The dispatcher of a cargo airline has to decide which of the transportation requests posed by the customers he should fulfill, i.e. how to load a particular plane. His decision is based on a list of requests which contain the weight $w_i$ of every package and the rate per weight unit charged for each request. Note that this rate is not fixed but depends on the particular longterm arrangements with every customer. Hence the profit $p_i$ made by the company by accepting a request and by putting the corresponding package on the plane is not directly proportional to the weight of the package. Naturally, every plane has a specified maximum capacity $c$ which may not be exceeded by the total weight of the selected packages."
   ]
  },
  {
   "cell_type": "markdown",
   "metadata": {},
   "source": [
    "# Mathematical Model for KP\n",
    "\n",
    "Variables: $x_i=1$ if item $i$ is selected, $=0$ otherwise, for $i=0,\\ldots,n-1$\n",
    "\n",
    "$\\max \\sum_{i=0}^{n-1} p_i x_i$ (total profit)\n",
    "\n",
    "subject to:\n",
    "\n",
    "$\\sum_{i=0}^{n-1} w_i x_i \\leq c$ (total weight)\n",
    "\n",
    "$x_i\\in\\{0,1\\}$ for $i=0,\\ldots,n-1$"
   ]
  },
  {
   "cell_type": "code",
   "execution_count": 6,
   "metadata": {},
   "outputs": [],
   "source": [
    "import pandas as pd\n",
    "import numpy as np\n",
    "from gurobipy import *\n",
    "\n",
    "c = 9                     # knapsack capacity\n",
    "p = [6, 5, 8, 9, 6, 7, 3] # item profits\n",
    "w = [2, 3, 6, 7, 5, 9, 4] # item weights"
   ]
  },
  {
   "cell_type": "code",
   "execution_count": 23,
   "metadata": {},
   "outputs": [],
   "source": [
    "def model_kp(c, p, w, LogToConsole=True, TimeLimit=60):\n",
    "    n = len(p)\n",
    "    assert n == len(w), 'Lengths of p and w should be the same'\n",
    "    model = Model()\n",
    "    model.params.LogToConsole = LogToConsole\n",
    "    model.params.TimeLimit = TimeLimit # seconds\n",
    "    x = model.addVars(n, vtype=GRB.BINARY)\n",
    "    model.setObjective(quicksum(p[i] * x[i] for i in range(n)), GRB.MAXIMIZE)\n",
    "    model.addConstr(quicksum(w[i] * x[i] for i in range(n)) <= c)\n",
    "    model.optimize()\n",
    "    items_selected = [i for i in range(n) if x[i].X > 0.5]\n",
    "    total_profit = int(model.ObjVal)\n",
    "    return items_selected, total_profit"
   ]
  },
  {
   "cell_type": "code",
   "execution_count": 24,
   "metadata": {},
   "outputs": [
    {
     "name": "stdout",
     "output_type": "stream",
     "text": [
      "Items selected are [0, 3] and the total profit is 15\n"
     ]
    }
   ],
   "source": [
    "items_selected, total_profit = model_kp(c, p, w, False)\n",
    "print('Items selected are', items_selected, 'and the total profit is', total_profit)"
   ]
  },
  {
   "cell_type": "code",
   "execution_count": 36,
   "metadata": {},
   "outputs": [
    {
     "name": "stdout",
     "output_type": "stream",
     "text": [
      "Items selected are [11, 23, 62, 73, 81, 99] and the total profit is 118083\n"
     ]
    }
   ],
   "source": [
    "from random import randint, seed\n",
    "seed(124)\n",
    "c = 1000\n",
    "w = [randint(5, 10) * 21 for i in range(100)]\n",
    "p = [randint(100, 120) * w[i] for i in range(100)]\n",
    "\n",
    "items_selected, total_profit = model_kp(c, p, w, False)\n",
    "print('Items selected are', items_selected, 'and the total profit is', total_profit)"
   ]
  },
  {
   "cell_type": "code",
   "execution_count": 3,
   "metadata": {},
   "outputs": [
    {
     "ename": "SyntaxError",
     "evalue": "invalid syntax (<ipython-input-3-87a0df049705>, line 17)",
     "output_type": "error",
     "traceback": [
      "\u001b[1;36m  File \u001b[1;32m\"<ipython-input-3-87a0df049705>\"\u001b[1;36m, line \u001b[1;32m17\u001b[0m\n\u001b[1;33m    model.addConstr(quicksum(q[l_idx])*x[b_idx][l_idx] for l_idx in range(n_l)) = 1)\u001b[0m\n\u001b[1;37m                                                                                   ^\u001b[0m\n\u001b[1;31mSyntaxError\u001b[0m\u001b[1;31m:\u001b[0m invalid syntax\n"
     ]
    }
   ],
   "source": [
    "def model_gs_matching(n_b, n_l, u, c, q, lambda_1, lamda_2, LogToConsole=True, TimeLimit=60):\n",
    "    model = Model()\n",
    "    model.params.LogToConsole = LogToConsole\n",
    "    model.params.TimeLimit = TimeLimit # seconds\n",
    "    x = {}\n",
    "    for b_idx in range(n_b):\n",
    "        x[b_idx] = {}\n",
    "        for l_idx in range(n_l): \n",
    "            s = \"x_{}_{}\".format(b_idx, l_idx)\n",
    "            x[b_idx][l_idx] = model.addVars(s, vtype=GRB.BINARY, name=s)\n",
    "            w[b_idx][l_idx] = model.addVars(s, vtype.GRB.BINARY, name=s)\n",
    "\n",
    "    for l_idx in range(n_l):\n",
    "        model.addConstr(quicksum(x[b_idx][l_idx] for b_idx in range(n_b)) <= 1)\n",
    "    \n",
    "    for b_idx in range(n_b):\n",
    "        model.addConstr(quicksum((q[l_idx]*x[b_idx][l_idx]) for l_idx in range(n_l)) >= 1)\n",
    "    \n",
    "    for b_ix in range(n_b):\n",
    "        for l_idx in range(n_l):\n",
    "            constr_obj_1 = c[b_idx]*x[b_idx][l_idx]\n",
    "            constr_obj_2 = 0\n",
    "            constr_obj_3 = 0\n",
    "            \n",
    "            for b_idx_2 in range(n_b):\n",
    "                if b_idx != b_idx_2:\n",
    "                    if u[b_idx][l_idx] < u[b_idx_2][l_idx]:\n",
    "                        constr_obj_2 += (x[b_idx][l_idx])\n",
    "            constr_obj_2 *= c[b_idx] \n",
    "\n",
    "            for l_idx_2 in range(n_l):\n",
    "                if l_idx != l_idx_2:\n",
    "                    if u[b_idx][l_idx] < u[b_idx][l_idx_2]:\n",
    "                        constr_obj_3 += (q[l_idx] * x[b_idx][l_idx])\n",
    "                        \n",
    "            model.addConstr((constr_obj_1 + constr_obj_2 + constr_obj_3) >= (c[b_idx]*w[b_idx][l_idx]))\n",
    "                    \n",
    "    model.setObjective(quicksum(p[i] * x[i] for i in range(n)), GRB.MAXIMIZE)\n",
    "#     model.optimize()\n",
    "#     items_selected = [i for i in range(n) if x[i].X > 0.5]\n",
    "#     total_profit = int(model.ObjVal)\n",
    "#     return items_selected, total_profit"
   ]
  },
  {
   "cell_type": "code",
   "execution_count": null,
   "metadata": {},
   "outputs": [],
   "source": []
  }
 ],
 "metadata": {
  "kernelspec": {
   "display_name": "Python 3",
   "language": "python",
   "name": "python3"
  },
  "language_info": {
   "codemirror_mode": {
    "name": "ipython",
    "version": 3
   },
   "file_extension": ".py",
   "mimetype": "text/x-python",
   "name": "python",
   "nbconvert_exporter": "python",
   "pygments_lexer": "ipython3",
   "version": "3.7.7"
  }
 },
 "nbformat": 4,
 "nbformat_minor": 4
}
